{
 "cells": [
  {
   "cell_type": "code",
   "execution_count": 1,
   "id": "630858fe-06c4-4304-8f2d-4f976f384334",
   "metadata": {},
   "outputs": [
    {
     "name": "stdout",
     "output_type": "stream",
     "text": [
      "Move disk 1 from source A to destination C\n",
      "Move disk 2 from source A to destination B\n",
      "Move disk 1 from source C to destination B\n",
      "Move disk 3 from source A to destination C\n",
      "Move disk 1 from source B to destination A\n",
      "Move disk 2 from source B to destination C\n",
      "Move disk 1 from source A to destination C\n",
      "Move disk 4 from source A to destination B\n",
      "Move disk 1 from source C to destination B\n",
      "Move disk 2 from source C to destination A\n",
      "Move disk 1 from source B to destination A\n",
      "Move disk 3 from source C to destination B\n",
      "Move disk 1 from source A to destination C\n",
      "Move disk 2 from source A to destination B\n",
      "Move disk 1 from source C to destination B\n"
     ]
    }
   ],
   "source": [
    "# Q.1 Can you explain the logic and working of the Tower of Hanoi algorithm by writing a Python program? \n",
    "# How does the recursion work, and how are the movements of disks between rods accomplished?\n",
    "\n",
    "\n",
    "def TowerOfHanoi(n , src, dest, aux):\n",
    "    if n==1:\n",
    "        print (\"Move disk 1 from source\",src,\"to destination\",dest)\n",
    "        return\n",
    "    TowerOfHanoi(n-1, src, aux, dest)\n",
    "    print (\"Move disk\",n,\"from source\",src,\"to destination\",dest)\n",
    "    TowerOfHanoi(n-1, aux, dest, src)\n",
    "         \n",
    "\n",
    "n = 4\n",
    "TowerOfHanoi(n,'A','B','C') \n"
   ]
  },
  {
   "cell_type": "code",
   "execution_count": 7,
   "id": "307c4e1d-c0f2-44ce-879e-a2136d2a72e6",
   "metadata": {},
   "outputs": [
    {
     "name": "stdout",
     "output_type": "stream",
     "text": [
      "11\n"
     ]
    }
   ],
   "source": [
    "# Q.2 Given two strings word1 and word2, return the minimum number of operations required to convert word1 to word2.\n",
    "\n",
    "def convert(txt1, txt2, m, n):\n",
    "    if m == 0:\n",
    "        return n\n",
    "    if n == 0:\n",
    "        return m\n",
    "    if txt1[m-1] == txt2[n-1]:\n",
    "        return convert(txt1, txt2, m-1, n-1)\n",
    "    return 1 + min(convert(txt1, txt2, m, n-1),    # Insert\n",
    "                   convert(txt1, txt2, m-1, n),    # Remove\n",
    "                   convert(txt1, txt2, m-1, n-1)    # Replace\n",
    "                   )\n",
    "\n",
    "\n",
    "\n",
    "txt1 = \"Vikas Singh\"\n",
    "txt2 = \"\"\n",
    "print(convert(txt1, txt2, len(txt1), len(txt2)))"
   ]
  },
  {
   "cell_type": "code",
   "execution_count": 9,
   "id": "f891998f-135d-40e1-8d0b-5316c48be5a6",
   "metadata": {},
   "outputs": [
    {
     "name": "stdout",
     "output_type": "stream",
     "text": [
      "22\n"
     ]
    }
   ],
   "source": [
    "# Q. 3 Print the max value of the array [ 13, 1, -3, 22, 5].\n",
    "\n",
    "def Max(A, n): \n",
    "    if (n == 1): \n",
    "        return A[0] \n",
    "    return max(A[n - 1], Max(A, n - 1)) \n",
    "  \n",
    "A = [ 13, 1, -3, 22, 5]\n",
    "n = len(A) \n",
    "print(Max(A, n)) \n",
    " "
   ]
  },
  {
   "cell_type": "code",
   "execution_count": 10,
   "id": "dcf4f60a-eb43-4bfa-83f3-25085236fcec",
   "metadata": {},
   "outputs": [
    {
     "name": "stdout",
     "output_type": "stream",
     "text": [
      "15\n"
     ]
    }
   ],
   "source": [
    "# Q.4 Find the sum of the values of the array [92, 23, 15, -20, 10].\n",
    "\n",
    "def Sum(arr, N): \n",
    "    if N <= 0: \n",
    "        return 0\n",
    "    else: \n",
    "        return Sum(arr, N - 1) + arr[N - 1] \n",
    "  \n",
    "\n",
    "arr = [1, 2, 3, 4, 5] \n",
    "N = len(arr) \n",
    "print(Sum(arr,N) )\n",
    " "
   ]
  },
  {
   "cell_type": "code",
   "execution_count": 29,
   "id": "7c70981a-bc82-438b-90c6-c199ae45802b",
   "metadata": {},
   "outputs": [
    {
     "name": "stdout",
     "output_type": "stream",
     "text": [
      "Yes\n"
     ]
    }
   ],
   "source": [
    "# Q.5 Given a number n. Print if it is an armstrong number or not.An armstrong number is a number if the sum \n",
    "# of every digit in that number raised to the power of total digits in that number is equal to the number.\n",
    "\n",
    "\n",
    "\n",
    "def order(x):\n",
    "    if x//10 == 0:\n",
    "        return 1\n",
    "    return 1+order(x//10)\n",
    " \n",
    "def isArmstrong(x, order):\n",
    "    if x == 0:\n",
    "        return 0\n",
    "    if x != 0:\n",
    "        return int(pow(x % 10, order))+isArmstrong(x//10, order)\n",
    "\n",
    "print(\"Yes\" if isArmstrong(153,order(153)) else \"No\")"
   ]
  }
 ],
 "metadata": {
  "kernelspec": {
   "display_name": "Python 3 (ipykernel)",
   "language": "python",
   "name": "python3"
  },
  "language_info": {
   "codemirror_mode": {
    "name": "ipython",
    "version": 3
   },
   "file_extension": ".py",
   "mimetype": "text/x-python",
   "name": "python",
   "nbconvert_exporter": "python",
   "pygments_lexer": "ipython3",
   "version": "3.11.5"
  }
 },
 "nbformat": 4,
 "nbformat_minor": 5
}
